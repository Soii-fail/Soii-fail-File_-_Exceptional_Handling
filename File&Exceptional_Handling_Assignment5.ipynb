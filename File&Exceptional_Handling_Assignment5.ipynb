{
  "nbformat": 4,
  "nbformat_minor": 0,
  "metadata": {
    "colab": {
      "provenance": []
    },
    "kernelspec": {
      "name": "python3",
      "display_name": "Python 3"
    },
    "language_info": {
      "name": "python"
    }
  },
  "cells": [
    {
      "cell_type": "markdown",
      "source": [
        "#File and Exceptional Handling"
      ],
      "metadata": {
        "id": "51wOrHXBSARO"
      }
    },
    {
      "cell_type": "markdown",
      "source": [
        "1. What is the difference between interpreted and compiled languages ?\n",
        "   - Execution is the primary distinction between compiled and interpreted languages. In interpreted languages, such as Python, an interpreter translates the code at runtime, line by line. This speeds up development but frequently results in slower performance because the code is run directly without first being translated to machine code. Compilable languages, such as C or C++, on the other hand, are first converted into machine code by a compiler before being executed. Because the computer can understand the machine code directly, this leads to speedier execution; however, it necessitates an additional compilation step before the program can start."
      ],
      "metadata": {
        "id": "oHLQZGPPSEws"
      }
    },
    {
      "cell_type": "markdown",
      "source": [
        "2. What is exception handling in Python ?\n",
        "   - Python's exception handling feature helps to control runtime failures so that a program continues to function properly even in the face of unforeseen problems. To capture and manage exceptions, it makes use of structures like `try`, `except`, `else`, and `finally`.\n",
        "\n",
        "\n",
        "   - Code that could cause an exception is contained in the `try` block.  \n",
        "   - Specific exceptions are caught and remedies are provided by the `except` block.  \n",
        "   - If there are no exceptions, the `else` section executes.  \n",
        "   - Whether or not an exception was raised, code is still executed by the `finally` block.  \n",
        "\n",
        "   - This method improves software robustness by preventing sudden program termination and enabling developers to efficiently debug or log failures.\n"
      ],
      "metadata": {
        "id": "f2b3u2dZSWM1"
      }
    },
    {
      "cell_type": "markdown",
      "source": [
        "3. What is the purpose of the finally block in exception handling ?\n",
        "   - In exception handling, a chunk of code that will run whether or not an exception occurs is defined by the `finally` block. It guarantees the completion of crucial housekeeping tasks like deleting files, allocating resources, or resetting variables. This block is especially helpful for preserving program stability and avoiding resource leaks because it executes after the `try` block and any related `catch` blocks. Even in the event that an error interrupts the regular program flow, writers can ensure that the required cleanup code is executed by using `finally`.\n"
      ],
      "metadata": {
        "id": "QkyqLj1KS_Lk"
      }
    },
    {
      "cell_type": "markdown",
      "source": [
        "4. What is logging in Python ?\n",
        "   - Python's built-in logging module offers an adaptable framework for monitoring events and troubleshooting programs. It enables programmers to capture information about how an application is running, including failures, warnings, debugging data, and informational messages. These logs can be used to track program behavior, find problems, and preserve historical documentation.\n",
        "\n",
        "   - DEBUG, INFO, WARNING, ERROR, and CRITICAL are among the log levels supported by Python's `logging` module. Configurable handlers and formatters allow logs to be exported to external systems, files, or the console. Logging is more structured, scalable, and appropriate for production settings than `print()` statements.\n"
      ],
      "metadata": {
        "id": "MegcpAAfTJns"
      }
    },
    {
      "cell_type": "code",
      "source": [
        "#example code for question 4\n",
        "import logging\n",
        "logging.basicConfig(level=logging.INFO)\n",
        "logging.info(\"Application started.\")"
      ],
      "metadata": {
        "id": "l3-4Jn-vTaXm"
      },
      "execution_count": null,
      "outputs": []
    },
    {
      "cell_type": "markdown",
      "source": [
        "5. What is the significance of the `__del__` method in Python ?\n",
        "   - In Python, the `__del__` method is a unique function known as a *destructor*. When an object is ready to be destroyed, usually when it exits scope or its reference count falls to zero, it is automatically invoked. Allowing cleanup operations, including releasing external resources (like deleting files, network connections, or database connections), is its main goal.\n",
        "\n",
        "   - The precise timing of its execution is dependent on Python's trash collection mechanism, which may not ensure instant cleanup, hence depending on `__del__` is typically discouraged. For resource management, it is better to use the `try-finally` block or context managers (`with` statements) for explicit cleanup.\n"
      ],
      "metadata": {
        "id": "MiPiH5C0TgaA"
      }
    },
    {
      "cell_type": "markdown",
      "source": [
        "6. What is the difference between import and from ... import in Python ?\n",
        "   - When importing modules or particular components in Python, `import` and `from... import` have different uses:\n",
        "\n",
        "   - **`import module`**: This imports the full module, and the module name as a prefix (e.g., `module.function()`) is used to access its contents.\n",
        "\n",
        "   - **`from module import item`**: This allows you to use a specific item (such a function, class, or variable) without the module prefix (like `item()`) by importing it directly.\n"
      ],
      "metadata": {
        "id": "WJ_Usb4aUAep"
      }
    },
    {
      "cell_type": "code",
      "source": [
        "#example code for question 6\n",
        "import math\n",
        "print(math.sqrt(16))\n",
        "\n",
        "from math import sqrt\n",
        "print(sqrt(16))\n",
        "\n",
        "#Use from ... import for concise code and import for clarity when working with multiple items."
      ],
      "metadata": {
        "id": "PonbqXK8UZEO"
      },
      "execution_count": null,
      "outputs": []
    },
    {
      "cell_type": "markdown",
      "source": [
        "7. How can you handle multiple exceptions in Python ?\n",
        "   - A try-except block in Python can be used to handle multiple exceptions. By defining each exception as a tuple in a single except statement, you can catch multiple exceptions."
      ],
      "metadata": {
        "id": "Bci8HpVZUiUi"
      }
    },
    {
      "cell_type": "code",
      "source": [
        "try:\n",
        "    # code that may raise exceptions\n",
        "except (TypeError, ValueError) as e:\n",
        "    print(f\"An error occurred: {e}\")"
      ],
      "metadata": {
        "id": "XaI-9XMqjPJG"
      },
      "execution_count": null,
      "outputs": []
    },
    {
      "cell_type": "markdown",
      "source": [
        "As an alternative, you can handle various exceptions independently by using numerous except blocks:"
      ],
      "metadata": {
        "id": "lzKOZFHujsig"
      }
    },
    {
      "cell_type": "code",
      "source": [
        "try:\n",
        "    # code that may raise exceptions\n",
        "except TypeError as e:\n",
        "    print(f\"Type error: {e}\")\n",
        "except ValueError as e:\n",
        "    print(f\"Value error: {e}\")"
      ],
      "metadata": {
        "id": "PRTWxBkbjxQY"
      },
      "execution_count": null,
      "outputs": []
    },
    {
      "cell_type": "markdown",
      "source": [
        "This keeps your program's error control intact while enabling distinct handling for every kind of exception."
      ],
      "metadata": {
        "id": "txOImtSvjzjP"
      }
    },
    {
      "cell_type": "markdown",
      "source": [
        "8. What is the purpose of the with statement when handling files in Python ?\n",
        "   - Python's `with` statement is used to manage resources, especially when working with files. Code is made cleaner and less prone to errors by ensuring that resources, like as file handles, are appropriately maintained. When the `with` statement is used with files, it opens the file automatically, executes operations on it, and makes sure that, even in the event of an exception, the file is closed correctly once the block of code is finished. This stops resource leaks and removes the need to use `file.close()` directly.\n"
      ],
      "metadata": {
        "id": "B8TxJQ74UwE2"
      }
    },
    {
      "cell_type": "code",
      "source": [
        "#example code for question 8\n",
        "with open(\"file.txt\", \"r\") as file:\n",
        "    content = file.read()\n",
        "# Here, file is only accessible within the with block, ensuring safe and efficient resource handling."
      ],
      "metadata": {
        "id": "Jn0wWCAyXqHY"
      },
      "execution_count": null,
      "outputs": []
    },
    {
      "cell_type": "markdown",
      "source": [
        "9. What is the difference between multithreading and multiprocessing ?\n",
        "   - While both multithreading and multiprocessing are methods for accomplishing concurrent execution, they take different approaches.\n",
        "\n",
        "   - **Multithreading** makes use of several threads that share memory space within a single process. Although it can encounter difficulties like thread-safety concerns, it is lightweight and effective for jobs involving I/O operations or shared resources.\n",
        "\n",
        "   - Multiple processes, each with its own memory space, are involved in **multiprocessing**. Because it efficiently uses several CPU cores and avoids Python's Global Interpreter Lock (GIL), it is better suited for CPU-bound activities. In contrast to threads, it has a slower rate of inter-process communication and a larger memory overhead.\n",
        "\n",
        "   - In summary, multiprocessing performs exceptionally well in CPU-bound activities, but multithreading is superior for I/O-bound jobs.\n"
      ],
      "metadata": {
        "id": "o-RH7bZqXzgH"
      }
    },
    {
      "cell_type": "markdown",
      "source": [
        "10. What are the advantages of using logging in a program ?\n",
        "    - Using logging in to a program has the following benefits:\n",
        "\n",
        "    1. **Debugging and Issue Resolution**: By offering comprehensive insights into program execution, logs aid in the identification and debugging of problems.\n",
        "    2. **Monitoring**: Logs enable real-time or retrospective monitoring of application performance and behavior.\n",
        "    3. **Error Tracking**: By methodically recording errors and exceptions, diagnosis is made simpler.\n",
        "    4. **Auditing and Compliance**: By recording events and actions, logs act as a record for audits and compliance.\n",
        "    5. **Analysis**: To find trends and improve system performance, log data can be examined.\n",
        "    6. **Customizable Levels**: Verbosity can be controlled with the use of logging levels (such as DEBUG, INFO, and ERROR).\n",
        "    7. **Decreased User Impact**: By substituting logs for excessive on-screen failures, the user experience is enhanced.\n",
        "\n",
        "    - Because of these advantages, logging is necessary to keep programs stable and dependable.\n",
        "\n",
        "    "
      ],
      "metadata": {
        "id": "aljFYj4mYOw6"
      }
    },
    {
      "cell_type": "markdown",
      "source": [
        "11. What is memory management in Python ?\n",
        "    - To guarantee peak performance and resource usage, memory management in Python entails the effective allocation and deallocation of memory. By using reference counting and cyclic garbage collection, Python's automatic garbage collection mechanism keeps track of and releases unused objects. In Python, all objects are kept in the heap memory, and they can be collected for garbage when their reference count falls to zero. Additionally, Python employs a memory pool (sometimes known as a \"memory allocator\") to effectively handle tiny objects. Developers can control and monitor memory management by interacting with the garbage collector through the built-in `gc` module.\n"
      ],
      "metadata": {
        "id": "4liYsKn-YlVX"
      }
    },
    {
      "cell_type": "markdown",
      "source": [
        "12. What are the basic steps involved in exception handling in Python ?\n",
        "    - In Python, handling exceptions entails the following fundamental actions:\n",
        "\n",
        "    - Code that has the potential to create an exception is included in a `try` block.\n",
        "    - **Except Block**: The program flow shifts to the `except` block, where you handle the exception or show an error message, in the event that an exception arises.\n",
        "    - **Else Block**: This block comes after the `try` block and runs if there isn't an exception.\n",
        "    - **Finally Block**: Usually used for cleanup operations like file closure or resource release, this block executes whether or not an exception occurred.\n"
      ],
      "metadata": {
        "id": "bIpSTrqnYvhZ"
      }
    },
    {
      "cell_type": "code",
      "source": [
        "#example code for question 12\n",
        "try:\n",
        "    # risky code\n",
        "except Exception as e:\n",
        "    # handle error\n",
        "else:\n",
        "    # if no error occurs\n",
        "finally:\n",
        "    # cleanup code"
      ],
      "metadata": {
        "id": "xLTMLQJEZE0t"
      },
      "execution_count": null,
      "outputs": []
    },
    {
      "cell_type": "markdown",
      "source": [
        "13. Why is memory management important in Python ?\n",
        "    - Python memory management is essential since it has a direct effect on programs' stability, effectiveness, and performance. A built-in garbage collector in Python manages memory allocation and deallocation automatically, releasing unused memory and avoiding memory leaks. Effective memory management is still required, though, to prevent problems like excessive memory usage, which can cause programs to lag or crash. Effective resource usage minimizes the need for manual intervention when resources are managed properly. Additionally, by managing object creation and reducing memory overhead, it aids in code performance optimization, particularly in memory-intensive applications."
      ],
      "metadata": {
        "id": "BBWMUToVZKJU"
      }
    },
    {
      "cell_type": "markdown",
      "source": [
        "14. What is the role of try and except in exception handling ?\n",
        "    - Python uses `try` and `except` for exception management, which allows errors to be handled gracefully. The `except` block catches any errors that arise after the code inside the `try` block is run. This enables bespoke error handling and keeps the program from crashing. The code that might cause an exception is contained in the `try` block, whereas the `except` block specifies how to deal with certain failures. It makes the software resilient and fault-tolerant by guaranteeing that it keeps functioning properly even in the face of unforeseen problems. Additionally, you may manage several exceptions or add an optional `else` or `finally` block for extra actions.\n"
      ],
      "metadata": {
        "id": "NQ4yskp3ZbfY"
      }
    },
    {
      "cell_type": "markdown",
      "source": [
        "15. How does Python's garbage collection system work ?\n",
        "    - Python's garbage collection system finds and recovers unneeded objects to automatically manage memory. Reference counting and cyclic garbage collection are its two main techniques. Reference counting keeps track of how many references there are to an object; the item is instantly deallocated when it hits zero. Nevertheless, cyclic references—where items reference one another—cannot be handled by this approach. Python employs a cyclic garbage collector to deal with this, searching for and eliminating such cycles on a regular basis. The `gc` module allows you to manually control the garbage collector, which operates in the background. By automatically releasing memory, this technology helps stop memory leaks.\n"
      ],
      "metadata": {
        "id": "DQk4RAUBZu6l"
      }
    },
    {
      "cell_type": "markdown",
      "source": [
        "16. What is the purpose of the else block in exception handling ?\n",
        "    - In exception handling, code that should only execute if no exceptions were raised in the `try` block is defined in the `else` block. When the code inside the `try` block runs successfully and error-free, it is executed. The `else` block aids in separating the error-handling logic from the code that executes when the operation is successful. In addition to making the code easier to read, this guarantees that the error-handling mechanism stays focused on handling exceptions while enabling successful operations to continue as planned. The `else` block follows the `try` and `except` blocks and is optional.\n"
      ],
      "metadata": {
        "id": "LsL0q_-oaD9z"
      }
    },
    {
      "cell_type": "markdown",
      "source": [
        "17. What are the common logging levels in Python ?\n",
        "    - The `logging` module in Python offers multiple logging levels to classify the seriousness of log messages:\n",
        "\n",
        "    1. **DEBUG**: Comprehensive data, usually utilized to identify issues.\n",
        "    2. **INFO**: General details about how the program is running, showing that it is operating normally.\n",
        "    3. **WARNING**: Signals a possible problem that should be looked into but does not stop the program.\n",
        "    4. **ERROR**: Signals a more significant problem that impairs operation without causing the application to crash.\n",
        "    5. **CRITICAL**: An very significant error that could result in the application ending.\n",
        "\n",
        "    - These levels offer a means of controlling the verbosity of logs by filtering messages according to severity.\n"
      ],
      "metadata": {
        "id": "u4WwMA59aOnz"
      }
    },
    {
      "cell_type": "markdown",
      "source": [
        "18. What is the difference between os.fork() and multiprocessing in Python ?\n",
        "    - Python parallelism is enabled by both `os.fork()` and `multiprocessing`, although they function differently. `os.fork()` duplicates the running process to produce a child process. It divides the process in half, but the child inherits the parent's condition, which might make resource management more difficult. It depends on the platform and is mostly compatible with Unix-like systems.\n",
        "\n",
        "    - The higher-level library `multiprocessing`, on the other hand, generates separate processes, each with its own memory area. It provides capabilities like inter-process communication and abstracts away the complexity of creating processes, making it more cross-platform and adaptable to both Unix and Windows.\n"
      ],
      "metadata": {
        "id": "IFkX-lEvaaXQ"
      }
    },
    {
      "cell_type": "markdown",
      "source": [
        "19. What is the importance of closing a file in Python ?\n",
        "    - In Python, closing a file is essential for preserving data integrity, releasing system resources, and guaranteeing that modifications are recorded. System resources like memory and file handles are allocated when a file is opened. These resources stay locked if you forget to close the file, which could result in memory leaks or file handle exhaustion. Closing a file after writing to it also guarantees that all changes are flushed and written correctly. A good way to prevent human errors is to open files using a `with` statement, which automatically handles shutting the file once the block is exited.\n"
      ],
      "metadata": {
        "id": "6_8YnpNbanMg"
      }
    },
    {
      "cell_type": "markdown",
      "source": [
        "20. What is the difference between file.read() and file.readline() in Python ?\n",
        "    - The two Python methods for reading files, `file.read()` and `file.readline()`, act differently.\n",
        "\n",
        "    - `file.read()` returns a single string after reading the entire file at once. When you want to process the full file without worrying about the line structure, it is helpful.\n",
        "      \n",
        "    - The following line is read from the file and returned as a string by `file.readline()`. It is appropriate for iterating over the file line by line because each call to `readline()` retrieves a single line.\n",
        "\n",
        "    - In conclusion, `readline()` retrieves a single line at a time, whereas `read()` retrieves the entire material.\n"
      ],
      "metadata": {
        "id": "y6f1W0fIavkw"
      }
    },
    {
      "cell_type": "markdown",
      "source": [
        "21. What is the logging module in Python used for ?\n",
        "    - Python's `logging` module is used to monitor and log events that occur while a program is running. It offers an adaptable architecture for writing log messages to a range of output locations, including files, the console, and external systems. It enables developers to classify messages according to their severity by setting several log levels (such as DEBUG, INFO, WARNING, ERROR, and CRITICAL). This facilitates auditing, debugging, and application performance monitoring. To effectively manage log sizes, the module includes sophisticated capabilities including filtering, log formatting, and file rotation.\n"
      ],
      "metadata": {
        "id": "a87LdJY7a9ep"
      }
    },
    {
      "cell_type": "markdown",
      "source": [
        "22. What is the os module in Python used for in file handling ?\n",
        "    - Python's `os` module offers a means of interacting with the operating system and handling files. By providing features to create, delete, rename, and list files and directories, it enables you to interact with directories, files, and paths. Examples include renaming files or directories, deleting files, and creating directories with `os.mkdir()`, `os.remove()`, and `os.rename()`. Using utilities like `os.chdir()` to modify the current working directory or `os.path` to manage file path manipulations like joining paths or verifying existence also aids in file system navigation. It is necessary for managing system-level tasks and file operations.\n"
      ],
      "metadata": {
        "id": "kQZGWnkybJvK"
      }
    },
    {
      "cell_type": "markdown",
      "source": [
        "23. What are the challenges associated with memory management in Python ?\n",
        "    - Python memory management presents a number of difficulties. First, Python automatically manages memory through garbage collection and reference counting, which might result in memory leaks if circular references are not handled correctly. Performance bottlenecks may arise when handling huge datasets or objects with high memory consumption, even though Python's memory allocation is generally efficient. Furthermore, in multi-threaded systems, the Global Interpreter Lock (GIL) may restrict the amount of RAM that may be used concurrently, which could affect performance. It may also be more difficult to optimize memory utilization in memory-intensive applications when there is no direct control over memory allocation and deallocation.\n"
      ],
      "metadata": {
        "id": "qxovLjA3baFu"
      }
    },
    {
      "cell_type": "markdown",
      "source": [
        "24. How do you raise an exception manually in Python ?\n",
        "    - The raise keyword and the exception type are used to manually raise an exception in Python. To issue a ValueError, for instance, you might use:\n"
      ],
      "metadata": {
        "id": "wu0eHnmybkpC"
      }
    },
    {
      "cell_type": "code",
      "source": [
        "raise ValueError(\"Custom error message\")"
      ],
      "metadata": {
        "id": "jfvmo2Dhb7_o"
      },
      "execution_count": null,
      "outputs": []
    },
    {
      "cell_type": "markdown",
      "source": [
        "By creating your own exception class, you can also raise custom exceptions. The built-in Exception class in Python should be the ancestor of this class. For instance:\n"
      ],
      "metadata": {
        "id": "jxxouFTzb-OY"
      }
    },
    {
      "cell_type": "code",
      "source": [
        "class MyCustomError(Exception):\n",
        "    pass\n",
        "\n",
        "raise MyCustomError(\"This is a custom exception\")"
      ],
      "metadata": {
        "id": "ZJyY4kOPcJ8f"
      },
      "execution_count": null,
      "outputs": []
    },
    {
      "cell_type": "markdown",
      "source": [
        "By manually raising exceptions, you may manage failures more effectively, which facilitates debugging and enhances code flow.\n",
        "\n",
        "\n",
        "\n",
        "\n",
        "\n",
        "\n",
        "\n"
      ],
      "metadata": {
        "id": "Y7q45Kw8cL7J"
      }
    },
    {
      "cell_type": "markdown",
      "source": [
        "25. Why is it important to use multithreading in certain applications ?\n",
        "    - In some applications, multithreading is crucial because it enables activities to be completed simultaneously, increasing performance and efficiency. A software can fully utilize multi-core processors by splitting it up into several threads, each of which handles a distinct aspect of the work. This is especially helpful for CPU-intensive jobs that can be parallelized, including data processing or intricate computations. Furthermore, multithreading makes applications more responsive, such as web servers or user interfaces, where several threads manage input/output operations. This allows the software to stay responsive while carrying out demanding tasks in the background. All things considered, multithreading improves user experience and speed."
      ],
      "metadata": {
        "id": "cii-t2G4cPin"
      }
    },
    {
      "cell_type": "markdown",
      "source": [
        "#Practical Questions"
      ],
      "metadata": {
        "id": "oJnAem3dcbR5"
      }
    },
    {
      "cell_type": "code",
      "source": [
        "#1. How can you open a file for writing in Python and write a string to it ?\n",
        "\n",
        "with open('file.txt', 'w') as file:\n",
        "    file.write(\"Hello, World!\")"
      ],
      "metadata": {
        "id": "Djkind0GdhZE"
      },
      "execution_count": 15,
      "outputs": []
    },
    {
      "cell_type": "code",
      "source": [
        "#2. Write a Python program to read the contents of a file and print each line ?\n",
        "\n",
        "with open('file.txt', 'r') as file:\n",
        "    for line in file:\n",
        "        print(line)"
      ],
      "metadata": {
        "colab": {
          "base_uri": "https://localhost:8080/"
        },
        "id": "UWlNY2HCeWyM",
        "outputId": "b7f80158-4209-47d2-9379-4f4dbbabb1ec"
      },
      "execution_count": 14,
      "outputs": [
        {
          "output_type": "stream",
          "name": "stdout",
          "text": [
            "Hello, World!\n"
          ]
        }
      ]
    },
    {
      "cell_type": "code",
      "source": [
        "#3. How would you handle a case where the file doesn't exist while trying to open it for reading ?\n",
        "\n",
        "try:\n",
        "    with open('file1.txt', 'r') as file:\n",
        "        content = file.read()\n",
        "except FileNotFoundError:\n",
        "    print(\"File not found.\")"
      ],
      "metadata": {
        "colab": {
          "base_uri": "https://localhost:8080/"
        },
        "id": "l7zkQEBGee4j",
        "outputId": "c2e60e19-be8c-46f4-857c-04abeeb5a483"
      },
      "execution_count": null,
      "outputs": [
        {
          "output_type": "stream",
          "name": "stdout",
          "text": [
            "File not found.\n"
          ]
        }
      ]
    },
    {
      "cell_type": "code",
      "source": [
        "#4. Write a Python script that reads from one file and writes its content to another file ?\n",
        "\n",
        "with open('source.txt', 'r') as source_file, open('destination.txt', 'w') as dest_file:\n",
        "    content = source_file.read()\n",
        "    dest_file.write(content)"
      ],
      "metadata": {
        "id": "IMM0Loy7en7d"
      },
      "execution_count": 13,
      "outputs": []
    },
    {
      "cell_type": "code",
      "source": [
        "#5. How would you catch and handle division by zero error in Python ?\n",
        "\n",
        "try:\n",
        "    result = 10 / 0\n",
        "except ZeroDivisionError:\n",
        "    print(\"Cannot divide by zero.\")"
      ],
      "metadata": {
        "colab": {
          "base_uri": "https://localhost:8080/"
        },
        "id": "S7I1nePMfen1",
        "outputId": "8c308ea1-6586-4ff7-cee7-5e77ba76420f"
      },
      "execution_count": 16,
      "outputs": [
        {
          "output_type": "stream",
          "name": "stdout",
          "text": [
            "Cannot divide by zero.\n"
          ]
        }
      ]
    },
    {
      "cell_type": "code",
      "source": [
        "#6. Write a Python program that logs an error message to a log file when a division by zero exception occurs ?\n",
        "\n",
        "import logging\n",
        "logging.basicConfig(filename='app.log', level=logging.ERROR)\n",
        "try:\n",
        "    result = 10 / 0\n",
        "except ZeroDivisionError as e:\n",
        "    logging.error(f\"Error: {e}\")"
      ],
      "metadata": {
        "colab": {
          "base_uri": "https://localhost:8080/"
        },
        "id": "AsqNNpo6foRG",
        "outputId": "fd57594b-7274-4a7f-cd7b-57fc7362b679"
      },
      "execution_count": 17,
      "outputs": [
        {
          "output_type": "stream",
          "name": "stderr",
          "text": [
            "ERROR:root:Error: division by zero\n"
          ]
        }
      ]
    },
    {
      "cell_type": "code",
      "source": [
        "#7. How do you log information at different levels (INFO, ERROR, WARNING) in Python using the logging module ?\n",
        "\n",
        "import logging\n",
        "logging.basicConfig(level=logging.DEBUG)\n",
        "logging.debug(\"This is a debug message.\")\n",
        "logging.info(\"This is an info message.\")\n",
        "logging.warning(\"This is a warning message.\")\n",
        "logging.error(\"This is an error message.\")\n",
        "logging.critical(\"This is a critical message.\")"
      ],
      "metadata": {
        "colab": {
          "base_uri": "https://localhost:8080/"
        },
        "id": "WK1gp-BRfvMg",
        "outputId": "95d5f462-1784-4d3f-8a8a-3164f8ea1c93"
      },
      "execution_count": 18,
      "outputs": [
        {
          "output_type": "stream",
          "name": "stderr",
          "text": [
            "WARNING:root:This is a warning message.\n",
            "ERROR:root:This is an error message.\n",
            "CRITICAL:root:This is a critical message.\n"
          ]
        }
      ]
    },
    {
      "cell_type": "code",
      "source": [
        "#8. Write a program to handle a file opening error using exception handling ?\n",
        "\n",
        "try:\n",
        "    with open('file2.txt', 'r') as file:\n",
        "        content = file.read()\n",
        "except Exception as e:\n",
        "    print(f\"Error opening file: {e}\")"
      ],
      "metadata": {
        "colab": {
          "base_uri": "https://localhost:8080/"
        },
        "id": "JvcXqZz_f24S",
        "outputId": "32e5666f-c120-4e0c-a367-0e60050bd090"
      },
      "execution_count": 19,
      "outputs": [
        {
          "output_type": "stream",
          "name": "stdout",
          "text": [
            "Error opening file: [Errno 2] No such file or directory: 'file2.txt'\n"
          ]
        }
      ]
    },
    {
      "cell_type": "code",
      "source": [
        "#9. How can you read a file line by line and store its content in a list in Python ?\n",
        "\n",
        "with open('file.txt', 'r') as file:\n",
        "    lines = file.readlines()\n",
        "print(lines)"
      ],
      "metadata": {
        "colab": {
          "base_uri": "https://localhost:8080/"
        },
        "id": "56X5L78If_0T",
        "outputId": "0d66105c-c42a-4056-eab8-fb182c181a13"
      },
      "execution_count": 21,
      "outputs": [
        {
          "output_type": "stream",
          "name": "stdout",
          "text": [
            "['Hello, World!']\n"
          ]
        }
      ]
    },
    {
      "cell_type": "code",
      "source": [
        "#10. How can you append data to an existing file in Python ?\n",
        "\n",
        "with open('file.txt', 'a') as file:\n",
        "    file.write(\"New content\")\n",
        "with open('file.txt', 'r') as file:\n",
        "    content = file.read()\n",
        "print(content)"
      ],
      "metadata": {
        "colab": {
          "base_uri": "https://localhost:8080/"
        },
        "id": "yvO5fO6KgN7M",
        "outputId": "bd041589-b2cd-42cd-f1bc-6bd76fab4211"
      },
      "execution_count": 24,
      "outputs": [
        {
          "output_type": "stream",
          "name": "stdout",
          "text": [
            "Hello, World!New contentNew contentNew content\n"
          ]
        }
      ]
    },
    {
      "cell_type": "code",
      "source": [
        "'''11.  Write a Python program that uses a try-except block to handle an error when attempting to access a\n",
        "dictionary key that doesn't exist ?'''\n",
        "\n",
        "my_dict = {'a': 1}\n",
        "try:\n",
        "    value = my_dict['b']\n",
        "except KeyError:\n",
        "    print(\"Key not found.\")"
      ],
      "metadata": {
        "colab": {
          "base_uri": "https://localhost:8080/"
        },
        "id": "9f6gHe-Zgjj5",
        "outputId": "b18f24e9-615b-4dde-a9c8-1978e02d0971"
      },
      "execution_count": 25,
      "outputs": [
        {
          "output_type": "stream",
          "name": "stdout",
          "text": [
            "Key not found.\n"
          ]
        }
      ]
    },
    {
      "cell_type": "code",
      "source": [
        "#12. Write a program that demonstrates using multiple except blocks to handle different types of exceptions ?\n",
        "\n",
        "try:\n",
        "    result = 10 / 0\n",
        "    my_dict = {'a': 1}\n",
        "    value = my_dict['b']\n",
        "except ZeroDivisionError:\n",
        "    print(\"Cannot divide by zero.\")\n",
        "except KeyError:\n",
        "    print(\"Key not found.\")\n"
      ],
      "metadata": {
        "colab": {
          "base_uri": "https://localhost:8080/"
        },
        "id": "5-TMxykSgtHP",
        "outputId": "a3057bf2-a95f-49d5-b72e-c8390be6cafe"
      },
      "execution_count": 26,
      "outputs": [
        {
          "output_type": "stream",
          "name": "stdout",
          "text": [
            "Cannot divide by zero.\n"
          ]
        }
      ]
    },
    {
      "cell_type": "code",
      "source": [
        "#13. How would you check if a file exists before attempting to read it in Python ?\n",
        "\n",
        "import os\n",
        "if os.path.exists('file3.txt'):\n",
        "    with open('file3.txt', 'r') as file:\n",
        "        content = file.read()\n",
        "else:\n",
        "    print(\"File does not exist.\")"
      ],
      "metadata": {
        "colab": {
          "base_uri": "https://localhost:8080/"
        },
        "id": "p7LDP_2-gzPP",
        "outputId": "7658a2dd-4627-4a29-ec20-b69febbc2c3a"
      },
      "execution_count": 29,
      "outputs": [
        {
          "output_type": "stream",
          "name": "stdout",
          "text": [
            "File does not exist.\n"
          ]
        }
      ]
    },
    {
      "cell_type": "code",
      "source": [
        "#14. Write a program that uses the logging module to log both informational and error messages ?\n",
        "\n",
        "import logging\n",
        "logging.basicConfig(filename='app.log', level=logging.DEBUG)\n",
        "logging.info(\"This is an info message.\")\n",
        "logging.error(\"This is an error message.\")"
      ],
      "metadata": {
        "colab": {
          "base_uri": "https://localhost:8080/"
        },
        "id": "3HICFscLhBNC",
        "outputId": "03593182-7f7a-49f0-d901-e8959de8c87b"
      },
      "execution_count": 30,
      "outputs": [
        {
          "output_type": "stream",
          "name": "stderr",
          "text": [
            "ERROR:root:This is an error message.\n"
          ]
        }
      ]
    },
    {
      "cell_type": "code",
      "source": [
        "#15. Write a Python program that prints the content of a file and handles the case when the file is empty ?\n",
        "\n",
        "with open('file.txt', 'r') as file:\n",
        "    content = file.read()\n",
        "    if content:\n",
        "        print(content)\n",
        "    else:\n",
        "        print(\"The file is empty.\")"
      ],
      "metadata": {
        "colab": {
          "base_uri": "https://localhost:8080/"
        },
        "id": "5EVtbhbkhHi_",
        "outputId": "e6e9ddc9-79b9-4303-e54a-e8b03e06b193"
      },
      "execution_count": 31,
      "outputs": [
        {
          "output_type": "stream",
          "name": "stdout",
          "text": [
            "Hello, World!New contentNew contentNew content\n"
          ]
        }
      ]
    },
    {
      "cell_type": "code",
      "source": [
        "#16. Demonstrate how to use memory profiling to check the memory usage of a small program ?\n",
        "\n",
        "!pip install memory_profiler\n",
        "\n",
        "from memory_profiler import profile\n",
        "\n",
        "@profile\n",
        "def my_function():\n",
        "    my_list = [i for i in range(10000)]\n",
        "    return my_list\n",
        "\n",
        "my_function()"
      ],
      "metadata": {
        "colab": {
          "base_uri": "https://localhost:8080/"
        },
        "id": "rbPsHFsThPuA",
        "outputId": "dc6345e5-695e-4755-caf3-27ae7db85a74"
      },
      "execution_count": 35,
      "outputs": [
        {
          "output_type": "stream",
          "name": "stdout",
          "text": [
            "Collecting memory_profiler\n",
            "  Downloading memory_profiler-0.61.0-py3-none-any.whl.metadata (20 kB)\n",
            "Requirement already satisfied: psutil in /usr/local/lib/python3.10/dist-packages (from memory_profiler) (5.9.5)\n",
            "Downloading memory_profiler-0.61.0-py3-none-any.whl (31 kB)\n",
            "Installing collected packages: memory_profiler\n",
            "Successfully installed memory_profiler-0.61.0\n"
          ]
        },
        {
          "output_type": "stream",
          "name": "stderr",
          "text": [
            "\n",
            "PYDEV DEBUGGER WARNING:\n",
            "sys.settrace() should not be used when the debugger is being used.\n",
            "This may cause the debugger to stop working correctly.\n",
            "If this is needed, please check: \n",
            "http://pydev.blogspot.com/2007/06/why-cant-pydev-debugger-work-with.html\n",
            "to see how to restore the debug tracing back correctly.\n",
            "Call Location:\n",
            "  File \"/usr/local/lib/python3.10/dist-packages/memory_profiler.py\", line 847, in enable\n",
            "    sys.settrace(self.trace_memory_usage)\n",
            "\n",
            "\n",
            "PYDEV DEBUGGER WARNING:\n",
            "sys.settrace() should not be used when the debugger is being used.\n",
            "This may cause the debugger to stop working correctly.\n",
            "If this is needed, please check: \n",
            "http://pydev.blogspot.com/2007/06/why-cant-pydev-debugger-work-with.html\n",
            "to see how to restore the debug tracing back correctly.\n",
            "Call Location:\n",
            "  File \"/usr/local/lib/python3.10/dist-packages/memory_profiler.py\", line 850, in disable\n",
            "    sys.settrace(self._original_trace_function)\n",
            "\n"
          ]
        },
        {
          "output_type": "stream",
          "name": "stdout",
          "text": [
            "ERROR: Could not find file <ipython-input-35-4d807f166ee1>\n",
            "NOTE: %mprun can only be used on functions defined in physical files, and not in the IPython environment.\n"
          ]
        },
        {
          "output_type": "execute_result",
          "data": {
            "text/plain": [
              "[0,\n",
              " 1,\n",
              " 2,\n",
              " 3,\n",
              " 4,\n",
              " 5,\n",
              " 6,\n",
              " 7,\n",
              " 8,\n",
              " 9,\n",
              " 10,\n",
              " 11,\n",
              " 12,\n",
              " 13,\n",
              " 14,\n",
              " 15,\n",
              " 16,\n",
              " 17,\n",
              " 18,\n",
              " 19,\n",
              " 20,\n",
              " 21,\n",
              " 22,\n",
              " 23,\n",
              " 24,\n",
              " 25,\n",
              " 26,\n",
              " 27,\n",
              " 28,\n",
              " 29,\n",
              " 30,\n",
              " 31,\n",
              " 32,\n",
              " 33,\n",
              " 34,\n",
              " 35,\n",
              " 36,\n",
              " 37,\n",
              " 38,\n",
              " 39,\n",
              " 40,\n",
              " 41,\n",
              " 42,\n",
              " 43,\n",
              " 44,\n",
              " 45,\n",
              " 46,\n",
              " 47,\n",
              " 48,\n",
              " 49,\n",
              " 50,\n",
              " 51,\n",
              " 52,\n",
              " 53,\n",
              " 54,\n",
              " 55,\n",
              " 56,\n",
              " 57,\n",
              " 58,\n",
              " 59,\n",
              " 60,\n",
              " 61,\n",
              " 62,\n",
              " 63,\n",
              " 64,\n",
              " 65,\n",
              " 66,\n",
              " 67,\n",
              " 68,\n",
              " 69,\n",
              " 70,\n",
              " 71,\n",
              " 72,\n",
              " 73,\n",
              " 74,\n",
              " 75,\n",
              " 76,\n",
              " 77,\n",
              " 78,\n",
              " 79,\n",
              " 80,\n",
              " 81,\n",
              " 82,\n",
              " 83,\n",
              " 84,\n",
              " 85,\n",
              " 86,\n",
              " 87,\n",
              " 88,\n",
              " 89,\n",
              " 90,\n",
              " 91,\n",
              " 92,\n",
              " 93,\n",
              " 94,\n",
              " 95,\n",
              " 96,\n",
              " 97,\n",
              " 98,\n",
              " 99,\n",
              " 100,\n",
              " 101,\n",
              " 102,\n",
              " 103,\n",
              " 104,\n",
              " 105,\n",
              " 106,\n",
              " 107,\n",
              " 108,\n",
              " 109,\n",
              " 110,\n",
              " 111,\n",
              " 112,\n",
              " 113,\n",
              " 114,\n",
              " 115,\n",
              " 116,\n",
              " 117,\n",
              " 118,\n",
              " 119,\n",
              " 120,\n",
              " 121,\n",
              " 122,\n",
              " 123,\n",
              " 124,\n",
              " 125,\n",
              " 126,\n",
              " 127,\n",
              " 128,\n",
              " 129,\n",
              " 130,\n",
              " 131,\n",
              " 132,\n",
              " 133,\n",
              " 134,\n",
              " 135,\n",
              " 136,\n",
              " 137,\n",
              " 138,\n",
              " 139,\n",
              " 140,\n",
              " 141,\n",
              " 142,\n",
              " 143,\n",
              " 144,\n",
              " 145,\n",
              " 146,\n",
              " 147,\n",
              " 148,\n",
              " 149,\n",
              " 150,\n",
              " 151,\n",
              " 152,\n",
              " 153,\n",
              " 154,\n",
              " 155,\n",
              " 156,\n",
              " 157,\n",
              " 158,\n",
              " 159,\n",
              " 160,\n",
              " 161,\n",
              " 162,\n",
              " 163,\n",
              " 164,\n",
              " 165,\n",
              " 166,\n",
              " 167,\n",
              " 168,\n",
              " 169,\n",
              " 170,\n",
              " 171,\n",
              " 172,\n",
              " 173,\n",
              " 174,\n",
              " 175,\n",
              " 176,\n",
              " 177,\n",
              " 178,\n",
              " 179,\n",
              " 180,\n",
              " 181,\n",
              " 182,\n",
              " 183,\n",
              " 184,\n",
              " 185,\n",
              " 186,\n",
              " 187,\n",
              " 188,\n",
              " 189,\n",
              " 190,\n",
              " 191,\n",
              " 192,\n",
              " 193,\n",
              " 194,\n",
              " 195,\n",
              " 196,\n",
              " 197,\n",
              " 198,\n",
              " 199,\n",
              " 200,\n",
              " 201,\n",
              " 202,\n",
              " 203,\n",
              " 204,\n",
              " 205,\n",
              " 206,\n",
              " 207,\n",
              " 208,\n",
              " 209,\n",
              " 210,\n",
              " 211,\n",
              " 212,\n",
              " 213,\n",
              " 214,\n",
              " 215,\n",
              " 216,\n",
              " 217,\n",
              " 218,\n",
              " 219,\n",
              " 220,\n",
              " 221,\n",
              " 222,\n",
              " 223,\n",
              " 224,\n",
              " 225,\n",
              " 226,\n",
              " 227,\n",
              " 228,\n",
              " 229,\n",
              " 230,\n",
              " 231,\n",
              " 232,\n",
              " 233,\n",
              " 234,\n",
              " 235,\n",
              " 236,\n",
              " 237,\n",
              " 238,\n",
              " 239,\n",
              " 240,\n",
              " 241,\n",
              " 242,\n",
              " 243,\n",
              " 244,\n",
              " 245,\n",
              " 246,\n",
              " 247,\n",
              " 248,\n",
              " 249,\n",
              " 250,\n",
              " 251,\n",
              " 252,\n",
              " 253,\n",
              " 254,\n",
              " 255,\n",
              " 256,\n",
              " 257,\n",
              " 258,\n",
              " 259,\n",
              " 260,\n",
              " 261,\n",
              " 262,\n",
              " 263,\n",
              " 264,\n",
              " 265,\n",
              " 266,\n",
              " 267,\n",
              " 268,\n",
              " 269,\n",
              " 270,\n",
              " 271,\n",
              " 272,\n",
              " 273,\n",
              " 274,\n",
              " 275,\n",
              " 276,\n",
              " 277,\n",
              " 278,\n",
              " 279,\n",
              " 280,\n",
              " 281,\n",
              " 282,\n",
              " 283,\n",
              " 284,\n",
              " 285,\n",
              " 286,\n",
              " 287,\n",
              " 288,\n",
              " 289,\n",
              " 290,\n",
              " 291,\n",
              " 292,\n",
              " 293,\n",
              " 294,\n",
              " 295,\n",
              " 296,\n",
              " 297,\n",
              " 298,\n",
              " 299,\n",
              " 300,\n",
              " 301,\n",
              " 302,\n",
              " 303,\n",
              " 304,\n",
              " 305,\n",
              " 306,\n",
              " 307,\n",
              " 308,\n",
              " 309,\n",
              " 310,\n",
              " 311,\n",
              " 312,\n",
              " 313,\n",
              " 314,\n",
              " 315,\n",
              " 316,\n",
              " 317,\n",
              " 318,\n",
              " 319,\n",
              " 320,\n",
              " 321,\n",
              " 322,\n",
              " 323,\n",
              " 324,\n",
              " 325,\n",
              " 326,\n",
              " 327,\n",
              " 328,\n",
              " 329,\n",
              " 330,\n",
              " 331,\n",
              " 332,\n",
              " 333,\n",
              " 334,\n",
              " 335,\n",
              " 336,\n",
              " 337,\n",
              " 338,\n",
              " 339,\n",
              " 340,\n",
              " 341,\n",
              " 342,\n",
              " 343,\n",
              " 344,\n",
              " 345,\n",
              " 346,\n",
              " 347,\n",
              " 348,\n",
              " 349,\n",
              " 350,\n",
              " 351,\n",
              " 352,\n",
              " 353,\n",
              " 354,\n",
              " 355,\n",
              " 356,\n",
              " 357,\n",
              " 358,\n",
              " 359,\n",
              " 360,\n",
              " 361,\n",
              " 362,\n",
              " 363,\n",
              " 364,\n",
              " 365,\n",
              " 366,\n",
              " 367,\n",
              " 368,\n",
              " 369,\n",
              " 370,\n",
              " 371,\n",
              " 372,\n",
              " 373,\n",
              " 374,\n",
              " 375,\n",
              " 376,\n",
              " 377,\n",
              " 378,\n",
              " 379,\n",
              " 380,\n",
              " 381,\n",
              " 382,\n",
              " 383,\n",
              " 384,\n",
              " 385,\n",
              " 386,\n",
              " 387,\n",
              " 388,\n",
              " 389,\n",
              " 390,\n",
              " 391,\n",
              " 392,\n",
              " 393,\n",
              " 394,\n",
              " 395,\n",
              " 396,\n",
              " 397,\n",
              " 398,\n",
              " 399,\n",
              " 400,\n",
              " 401,\n",
              " 402,\n",
              " 403,\n",
              " 404,\n",
              " 405,\n",
              " 406,\n",
              " 407,\n",
              " 408,\n",
              " 409,\n",
              " 410,\n",
              " 411,\n",
              " 412,\n",
              " 413,\n",
              " 414,\n",
              " 415,\n",
              " 416,\n",
              " 417,\n",
              " 418,\n",
              " 419,\n",
              " 420,\n",
              " 421,\n",
              " 422,\n",
              " 423,\n",
              " 424,\n",
              " 425,\n",
              " 426,\n",
              " 427,\n",
              " 428,\n",
              " 429,\n",
              " 430,\n",
              " 431,\n",
              " 432,\n",
              " 433,\n",
              " 434,\n",
              " 435,\n",
              " 436,\n",
              " 437,\n",
              " 438,\n",
              " 439,\n",
              " 440,\n",
              " 441,\n",
              " 442,\n",
              " 443,\n",
              " 444,\n",
              " 445,\n",
              " 446,\n",
              " 447,\n",
              " 448,\n",
              " 449,\n",
              " 450,\n",
              " 451,\n",
              " 452,\n",
              " 453,\n",
              " 454,\n",
              " 455,\n",
              " 456,\n",
              " 457,\n",
              " 458,\n",
              " 459,\n",
              " 460,\n",
              " 461,\n",
              " 462,\n",
              " 463,\n",
              " 464,\n",
              " 465,\n",
              " 466,\n",
              " 467,\n",
              " 468,\n",
              " 469,\n",
              " 470,\n",
              " 471,\n",
              " 472,\n",
              " 473,\n",
              " 474,\n",
              " 475,\n",
              " 476,\n",
              " 477,\n",
              " 478,\n",
              " 479,\n",
              " 480,\n",
              " 481,\n",
              " 482,\n",
              " 483,\n",
              " 484,\n",
              " 485,\n",
              " 486,\n",
              " 487,\n",
              " 488,\n",
              " 489,\n",
              " 490,\n",
              " 491,\n",
              " 492,\n",
              " 493,\n",
              " 494,\n",
              " 495,\n",
              " 496,\n",
              " 497,\n",
              " 498,\n",
              " 499,\n",
              " 500,\n",
              " 501,\n",
              " 502,\n",
              " 503,\n",
              " 504,\n",
              " 505,\n",
              " 506,\n",
              " 507,\n",
              " 508,\n",
              " 509,\n",
              " 510,\n",
              " 511,\n",
              " 512,\n",
              " 513,\n",
              " 514,\n",
              " 515,\n",
              " 516,\n",
              " 517,\n",
              " 518,\n",
              " 519,\n",
              " 520,\n",
              " 521,\n",
              " 522,\n",
              " 523,\n",
              " 524,\n",
              " 525,\n",
              " 526,\n",
              " 527,\n",
              " 528,\n",
              " 529,\n",
              " 530,\n",
              " 531,\n",
              " 532,\n",
              " 533,\n",
              " 534,\n",
              " 535,\n",
              " 536,\n",
              " 537,\n",
              " 538,\n",
              " 539,\n",
              " 540,\n",
              " 541,\n",
              " 542,\n",
              " 543,\n",
              " 544,\n",
              " 545,\n",
              " 546,\n",
              " 547,\n",
              " 548,\n",
              " 549,\n",
              " 550,\n",
              " 551,\n",
              " 552,\n",
              " 553,\n",
              " 554,\n",
              " 555,\n",
              " 556,\n",
              " 557,\n",
              " 558,\n",
              " 559,\n",
              " 560,\n",
              " 561,\n",
              " 562,\n",
              " 563,\n",
              " 564,\n",
              " 565,\n",
              " 566,\n",
              " 567,\n",
              " 568,\n",
              " 569,\n",
              " 570,\n",
              " 571,\n",
              " 572,\n",
              " 573,\n",
              " 574,\n",
              " 575,\n",
              " 576,\n",
              " 577,\n",
              " 578,\n",
              " 579,\n",
              " 580,\n",
              " 581,\n",
              " 582,\n",
              " 583,\n",
              " 584,\n",
              " 585,\n",
              " 586,\n",
              " 587,\n",
              " 588,\n",
              " 589,\n",
              " 590,\n",
              " 591,\n",
              " 592,\n",
              " 593,\n",
              " 594,\n",
              " 595,\n",
              " 596,\n",
              " 597,\n",
              " 598,\n",
              " 599,\n",
              " 600,\n",
              " 601,\n",
              " 602,\n",
              " 603,\n",
              " 604,\n",
              " 605,\n",
              " 606,\n",
              " 607,\n",
              " 608,\n",
              " 609,\n",
              " 610,\n",
              " 611,\n",
              " 612,\n",
              " 613,\n",
              " 614,\n",
              " 615,\n",
              " 616,\n",
              " 617,\n",
              " 618,\n",
              " 619,\n",
              " 620,\n",
              " 621,\n",
              " 622,\n",
              " 623,\n",
              " 624,\n",
              " 625,\n",
              " 626,\n",
              " 627,\n",
              " 628,\n",
              " 629,\n",
              " 630,\n",
              " 631,\n",
              " 632,\n",
              " 633,\n",
              " 634,\n",
              " 635,\n",
              " 636,\n",
              " 637,\n",
              " 638,\n",
              " 639,\n",
              " 640,\n",
              " 641,\n",
              " 642,\n",
              " 643,\n",
              " 644,\n",
              " 645,\n",
              " 646,\n",
              " 647,\n",
              " 648,\n",
              " 649,\n",
              " 650,\n",
              " 651,\n",
              " 652,\n",
              " 653,\n",
              " 654,\n",
              " 655,\n",
              " 656,\n",
              " 657,\n",
              " 658,\n",
              " 659,\n",
              " 660,\n",
              " 661,\n",
              " 662,\n",
              " 663,\n",
              " 664,\n",
              " 665,\n",
              " 666,\n",
              " 667,\n",
              " 668,\n",
              " 669,\n",
              " 670,\n",
              " 671,\n",
              " 672,\n",
              " 673,\n",
              " 674,\n",
              " 675,\n",
              " 676,\n",
              " 677,\n",
              " 678,\n",
              " 679,\n",
              " 680,\n",
              " 681,\n",
              " 682,\n",
              " 683,\n",
              " 684,\n",
              " 685,\n",
              " 686,\n",
              " 687,\n",
              " 688,\n",
              " 689,\n",
              " 690,\n",
              " 691,\n",
              " 692,\n",
              " 693,\n",
              " 694,\n",
              " 695,\n",
              " 696,\n",
              " 697,\n",
              " 698,\n",
              " 699,\n",
              " 700,\n",
              " 701,\n",
              " 702,\n",
              " 703,\n",
              " 704,\n",
              " 705,\n",
              " 706,\n",
              " 707,\n",
              " 708,\n",
              " 709,\n",
              " 710,\n",
              " 711,\n",
              " 712,\n",
              " 713,\n",
              " 714,\n",
              " 715,\n",
              " 716,\n",
              " 717,\n",
              " 718,\n",
              " 719,\n",
              " 720,\n",
              " 721,\n",
              " 722,\n",
              " 723,\n",
              " 724,\n",
              " 725,\n",
              " 726,\n",
              " 727,\n",
              " 728,\n",
              " 729,\n",
              " 730,\n",
              " 731,\n",
              " 732,\n",
              " 733,\n",
              " 734,\n",
              " 735,\n",
              " 736,\n",
              " 737,\n",
              " 738,\n",
              " 739,\n",
              " 740,\n",
              " 741,\n",
              " 742,\n",
              " 743,\n",
              " 744,\n",
              " 745,\n",
              " 746,\n",
              " 747,\n",
              " 748,\n",
              " 749,\n",
              " 750,\n",
              " 751,\n",
              " 752,\n",
              " 753,\n",
              " 754,\n",
              " 755,\n",
              " 756,\n",
              " 757,\n",
              " 758,\n",
              " 759,\n",
              " 760,\n",
              " 761,\n",
              " 762,\n",
              " 763,\n",
              " 764,\n",
              " 765,\n",
              " 766,\n",
              " 767,\n",
              " 768,\n",
              " 769,\n",
              " 770,\n",
              " 771,\n",
              " 772,\n",
              " 773,\n",
              " 774,\n",
              " 775,\n",
              " 776,\n",
              " 777,\n",
              " 778,\n",
              " 779,\n",
              " 780,\n",
              " 781,\n",
              " 782,\n",
              " 783,\n",
              " 784,\n",
              " 785,\n",
              " 786,\n",
              " 787,\n",
              " 788,\n",
              " 789,\n",
              " 790,\n",
              " 791,\n",
              " 792,\n",
              " 793,\n",
              " 794,\n",
              " 795,\n",
              " 796,\n",
              " 797,\n",
              " 798,\n",
              " 799,\n",
              " 800,\n",
              " 801,\n",
              " 802,\n",
              " 803,\n",
              " 804,\n",
              " 805,\n",
              " 806,\n",
              " 807,\n",
              " 808,\n",
              " 809,\n",
              " 810,\n",
              " 811,\n",
              " 812,\n",
              " 813,\n",
              " 814,\n",
              " 815,\n",
              " 816,\n",
              " 817,\n",
              " 818,\n",
              " 819,\n",
              " 820,\n",
              " 821,\n",
              " 822,\n",
              " 823,\n",
              " 824,\n",
              " 825,\n",
              " 826,\n",
              " 827,\n",
              " 828,\n",
              " 829,\n",
              " 830,\n",
              " 831,\n",
              " 832,\n",
              " 833,\n",
              " 834,\n",
              " 835,\n",
              " 836,\n",
              " 837,\n",
              " 838,\n",
              " 839,\n",
              " 840,\n",
              " 841,\n",
              " 842,\n",
              " 843,\n",
              " 844,\n",
              " 845,\n",
              " 846,\n",
              " 847,\n",
              " 848,\n",
              " 849,\n",
              " 850,\n",
              " 851,\n",
              " 852,\n",
              " 853,\n",
              " 854,\n",
              " 855,\n",
              " 856,\n",
              " 857,\n",
              " 858,\n",
              " 859,\n",
              " 860,\n",
              " 861,\n",
              " 862,\n",
              " 863,\n",
              " 864,\n",
              " 865,\n",
              " 866,\n",
              " 867,\n",
              " 868,\n",
              " 869,\n",
              " 870,\n",
              " 871,\n",
              " 872,\n",
              " 873,\n",
              " 874,\n",
              " 875,\n",
              " 876,\n",
              " 877,\n",
              " 878,\n",
              " 879,\n",
              " 880,\n",
              " 881,\n",
              " 882,\n",
              " 883,\n",
              " 884,\n",
              " 885,\n",
              " 886,\n",
              " 887,\n",
              " 888,\n",
              " 889,\n",
              " 890,\n",
              " 891,\n",
              " 892,\n",
              " 893,\n",
              " 894,\n",
              " 895,\n",
              " 896,\n",
              " 897,\n",
              " 898,\n",
              " 899,\n",
              " 900,\n",
              " 901,\n",
              " 902,\n",
              " 903,\n",
              " 904,\n",
              " 905,\n",
              " 906,\n",
              " 907,\n",
              " 908,\n",
              " 909,\n",
              " 910,\n",
              " 911,\n",
              " 912,\n",
              " 913,\n",
              " 914,\n",
              " 915,\n",
              " 916,\n",
              " 917,\n",
              " 918,\n",
              " 919,\n",
              " 920,\n",
              " 921,\n",
              " 922,\n",
              " 923,\n",
              " 924,\n",
              " 925,\n",
              " 926,\n",
              " 927,\n",
              " 928,\n",
              " 929,\n",
              " 930,\n",
              " 931,\n",
              " 932,\n",
              " 933,\n",
              " 934,\n",
              " 935,\n",
              " 936,\n",
              " 937,\n",
              " 938,\n",
              " 939,\n",
              " 940,\n",
              " 941,\n",
              " 942,\n",
              " 943,\n",
              " 944,\n",
              " 945,\n",
              " 946,\n",
              " 947,\n",
              " 948,\n",
              " 949,\n",
              " 950,\n",
              " 951,\n",
              " 952,\n",
              " 953,\n",
              " 954,\n",
              " 955,\n",
              " 956,\n",
              " 957,\n",
              " 958,\n",
              " 959,\n",
              " 960,\n",
              " 961,\n",
              " 962,\n",
              " 963,\n",
              " 964,\n",
              " 965,\n",
              " 966,\n",
              " 967,\n",
              " 968,\n",
              " 969,\n",
              " 970,\n",
              " 971,\n",
              " 972,\n",
              " 973,\n",
              " 974,\n",
              " 975,\n",
              " 976,\n",
              " 977,\n",
              " 978,\n",
              " 979,\n",
              " 980,\n",
              " 981,\n",
              " 982,\n",
              " 983,\n",
              " 984,\n",
              " 985,\n",
              " 986,\n",
              " 987,\n",
              " 988,\n",
              " 989,\n",
              " 990,\n",
              " 991,\n",
              " 992,\n",
              " 993,\n",
              " 994,\n",
              " 995,\n",
              " 996,\n",
              " 997,\n",
              " 998,\n",
              " 999,\n",
              " ...]"
            ]
          },
          "metadata": {},
          "execution_count": 35
        }
      ]
    },
    {
      "cell_type": "code",
      "source": [
        "#17. Write a Python program to create and write a list of numbers to a file, one number per line ?\n",
        "\n",
        "numbers = [1, 2, 3, 4, 5]\n",
        "with open('numbers.txt', 'w') as file:\n",
        "    for number in numbers:\n",
        "        file.write(f\"{number}\\n\")"
      ],
      "metadata": {
        "id": "3pKnKBSkhrJT"
      },
      "execution_count": 36,
      "outputs": []
    },
    {
      "cell_type": "code",
      "source": [
        "#18. How would you implement a basic logging setup that logs to a file with rotation after 1MB ?\n",
        "\n",
        "import logging\n",
        "from logging.handlers import RotatingFileHandler\n",
        "\n",
        "handler = RotatingFileHandler('app.log', maxBytes=1e6, backupCount=5)\n",
        "logging.basicConfig(handlers=[handler], level=logging.INFO)\n",
        "logging.info(\"This is an info message.\")"
      ],
      "metadata": {
        "id": "Qed3G763h-fd"
      },
      "execution_count": 37,
      "outputs": []
    },
    {
      "cell_type": "code",
      "source": [
        "#19. Write a program that handles both IndexError and KeyError using a try-except block ?\n",
        "\n",
        "my_list = [1, 2, 3]\n",
        "my_dict = {'a': 1}\n",
        "try:\n",
        "    print(my_list[5])\n",
        "except IndexError:\n",
        "    print(\"Index out of range.\")\n",
        "try:\n",
        "    print(my_dict['b'])\n",
        "except KeyError:\n",
        "    print(\"Key not found.\")"
      ],
      "metadata": {
        "colab": {
          "base_uri": "https://localhost:8080/"
        },
        "id": "x5VXtxCOiE5R",
        "outputId": "df4e4367-ebd0-4aa4-8cd5-109d76e40c15"
      },
      "execution_count": 38,
      "outputs": [
        {
          "output_type": "stream",
          "name": "stdout",
          "text": [
            "Index out of range.\n",
            "Key not found.\n"
          ]
        }
      ]
    },
    {
      "cell_type": "code",
      "source": [
        "#20. How would you open a file and read its contents using a context manager in Python ?\n",
        "\n",
        "with open('file.txt', 'r') as file:\n",
        "    content = file.read()\n",
        "print(content)"
      ],
      "metadata": {
        "colab": {
          "base_uri": "https://localhost:8080/"
        },
        "id": "iEmmd4BXiK8F",
        "outputId": "48d5e9b5-eb29-4319-cc07-e7b0c1ae8622"
      },
      "execution_count": 41,
      "outputs": [
        {
          "output_type": "stream",
          "name": "stdout",
          "text": [
            "Hello, World!New contentNew contentNew content\n"
          ]
        }
      ]
    },
    {
      "cell_type": "code",
      "source": [
        "#21. Write a Python program that reads a file and prints the number of occurrences of a specific word ?\n",
        "\n",
        "word_to_count = 'New'\n",
        "with open('file.txt', 'r') as file:\n",
        "    content = file.read()\n",
        "    word_count = content.count(word_to_count)\n",
        "print(f\"The word '{word_to_count}' occurs {word_count} times.\")"
      ],
      "metadata": {
        "colab": {
          "base_uri": "https://localhost:8080/"
        },
        "id": "WEa_lOHGiRHe",
        "outputId": "8ec94e39-b837-42d6-d69a-37645f28306b"
      },
      "execution_count": 43,
      "outputs": [
        {
          "output_type": "stream",
          "name": "stdout",
          "text": [
            "The word 'New' occurs 3 times.\n"
          ]
        }
      ]
    },
    {
      "cell_type": "code",
      "source": [
        "#22. How can you check if a file is empty before attempting to read its contents ?\n",
        "\n",
        "if os.path.getsize('empty.txt') > 0:\n",
        "    with open('empty.txt', 'r') as file:\n",
        "        content = file.read()\n",
        "else:\n",
        "    print(\"The file is empty.\")"
      ],
      "metadata": {
        "colab": {
          "base_uri": "https://localhost:8080/"
        },
        "id": "Pxg3T-Wwiiai",
        "outputId": "2520f9c7-8ea0-46c1-c496-f4341457d57e"
      },
      "execution_count": 45,
      "outputs": [
        {
          "output_type": "stream",
          "name": "stdout",
          "text": [
            "The file is empty.\n"
          ]
        }
      ]
    },
    {
      "cell_type": "code",
      "source": [
        "#23. Write a Python program that writes to a log file when an error occurs during file handling ?\n",
        "\n",
        "import logging\n",
        "logging.basicConfig(filename='error.log', level=logging.ERROR)\n",
        "try:\n",
        "    with open('file.txt', 'r') as file:\n",
        "        content = file.read()\n",
        "except Exception as e:\n",
        "    logging.error(f\"Error opening file: {e}\")"
      ],
      "metadata": {
        "id": "loCN190uiwiv"
      },
      "execution_count": 46,
      "outputs": []
    }
  ]
}